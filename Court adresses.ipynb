{
 "cells": [
  {
   "cell_type": "markdown",
   "metadata": {},
   "source": [
    "<h3>Usefull stuff</h3>"
   ]
  },
  {
   "cell_type": "code",
   "execution_count": 1,
   "metadata": {},
   "outputs": [],
   "source": [
    "from bs4 import BeautifulSoup\n",
    "import requests\n",
    "import pandas as pd\n",
    "import time\n",
    "\n",
    "def distra(text):\n",
    "    rem = ['судебного ', 'Судебного ', 'судебный участок ', 'Судебный участок ']\n",
    "    if 'район' in text:\n",
    "        if '№ ' in text:\n",
    "            text = ' '.join(text[text.find('№')+2:text.find('район')+6].split(' ')[1:])\n",
    "        elif '№' in text:\n",
    "            text = ' '.join(text[text.find('№')+1:text.find('район')+6].split(' ')[1:])\n",
    "        else:\n",
    "            text = text[:text.find('район')+6]\n",
    "        for i in rem:\n",
    "            text = text.replace(i, '')\n",
    "        return text\n",
    "    elif 'округ' in text:\n",
    "        if '№ ' in text:\n",
    "            text = ' '.join(text[text.find('№')+2:text.find('округ')+6].split(' ')[1:])\n",
    "        elif '№' in text:\n",
    "            text = ' '.join(text[text.find('№')+1:text.find('округ')+6].split(' ')[1:])\n",
    "        else:\n",
    "            text = text[:text.find('округ')+6]\n",
    "        for i in rem:\n",
    "            text = text.replace(i, '')\n",
    "        return text\n",
    "    else:\n",
    "        for i in rem:\n",
    "            text = text.replace(i, '')\n",
    "        return text"
   ]
  },
  {
   "cell_type": "markdown",
   "metadata": {},
   "source": [
    "<h3>Dictionary containing of ids of regions we are intrested in</h3>"
   ]
  },
  {
   "cell_type": "code",
   "execution_count": 2,
   "metadata": {},
   "outputs": [],
   "source": [
    "mother = {'Республика Саха (Якутия)':'14', 'Забайкальский край':'75', 'Республика Бурятия':'04', 'Иркутская область':'38'}"
   ]
  },
  {
   "cell_type": "markdown",
   "metadata": {},
   "source": [
    "<h3>Collecting data</h3>"
   ]
  },
  {
   "cell_type": "code",
   "execution_count": null,
   "metadata": {},
   "outputs": [],
   "source": [
    "table = []\n",
    "for k, v in mother.items():\n",
    "    mother_url = 'https://sudrf.ru/index.php?id=300&act=go_ms_search&searchtype=ms& \\\n",
    "    var=true&ms_type=ms&court_subj={}&ms_city=&ms_street='.format(v)\n",
    "    headerss = {'User-Agent': 'Mozilla/5.0 (Macintosh; Intel Mac OS X 10_10_1)  \\\n",
    "    AppleWebKit/537.36 (KHTML, like Gecko) Chrome/39.0.2171.95 Safari/537.36'}\n",
    "    mother_site = requests.get(mother_url, headers = headerss)\n",
    "    mother_soup = BeautifulSoup(mother_site.content.decode(mother_site.encoding), 'xml')\n",
    "    for td in mother_soup.find('table', class_='msSearchResultTbl').find_all('TD'):\n",
    "        try:\n",
    "            ID = td.find('b').next_sibling.strip()\n",
    "            url = td.find_all('a')[1]['href'] + '/modules.php?name=terr'\n",
    "            try:\n",
    "                site = requests.get(url, headers = headerss)\n",
    "            except:\n",
    "                time.sleep(5)\n",
    "                try:\n",
    "                    site = requests.get(url, headers = headerss)\n",
    "                except:\n",
    "                    print('Чёт всё равно не пошло с {}'.format(url))\n",
    "                    pass\n",
    "            soup = BeautifulSoup(site.content.decode(site.encoding), 'xml')\n",
    "            district = distra(soup.find('meta', {'name':'description'})['content'])\n",
    "            for i in soup.find_all('div', {'class':'terr-item'}):\n",
    "                row = []\n",
    "                text = i.text.replace(k, '')\n",
    "                for j in district.split(' '):\n",
    "                    text = text.replace(j, '')\n",
    "                address = ' '.join([s.strip() for s in text.split('\\n') if s != ''])\n",
    "                row.append(ID)\n",
    "                row.append(k)\n",
    "                row.append(district)\n",
    "                row.append(address)\n",
    "                row.append(url[:-22])\n",
    "                table.append(row)\n",
    "        except Exception as e:\n",
    "            print(e)\n",
    "            pass"
   ]
  },
  {
   "cell_type": "markdown",
   "metadata": {},
   "source": [
    "<h3>Data preprocessing</h3>"
   ]
  },
  {
   "cell_type": "code",
   "execution_count": null,
   "metadata": {},
   "outputs": [],
   "source": [
    "data = table\n",
    "for i in data:\n",
    "    try:\n",
    "        if i[2] != 0:\n",
    "            if i[3] != 0:\n",
    "                start = int(i[2])\n",
    "                end = int(i[3])\n",
    "                left, right = data[:data.index(i)], data[data.index(i)+1:]\n",
    "                for j in range(start, end+1):\n",
    "                    left.append([i[0], ' '.join([i[1].replace('\\t', ''), str(j)])\n",
    "                                 .replace('  ', ' '), 0, 0])\n",
    "                data = left + right\n",
    "            else:\n",
    "                if isinstance(i[2], int) or isinstance(i[2], float):\n",
    "                    left, right = data[:data.index(i)], data[data.index(i)+1:]\n",
    "                    left.append([i[0], ' '.join([i[1].replace('\\t', ''), i[2].replace(',', '')])\n",
    "                                 .replace('  ', ' '), 0, 0])\n",
    "                    data = left + right\n",
    "                else:\n",
    "                    lili = i[2].split(',')\n",
    "                    left, right = data[:data.index(i)], data[data.index(i)+1:]\n",
    "                    for j in lili:\n",
    "                        if j != '':\n",
    "                            if j[0] == ' ':\n",
    "                                ho = j[1:]\n",
    "                            else:\n",
    "                                ho = j\n",
    "                            left.append([i[0], ' '.join([i[1].replace('\\t', ''), ho])\n",
    "                                         .replace('  ', ' '), 0, 0])\n",
    "                    data = left + right\n",
    "    except Exception as e:\n",
    "        print(i, e)"
   ]
  },
  {
   "cell_type": "markdown",
   "metadata": {},
   "source": [
    "<h3>Convert to excel</h3>"
   ]
  },
  {
   "cell_type": "code",
   "execution_count": null,
   "metadata": {},
   "outputs": [],
   "source": [
    "pd.DataFrame([[i[0], i[1]] for i in data], \n",
    "             columns=['ID', 'Adress']).to_excel(r'C:\\Users\\Андрей\\Desktop\\Забайкальский край.xlsx', \n",
    "                                                                              index=False, header=True)"
   ]
  }
 ],
 "metadata": {
  "kernelspec": {
   "display_name": "Python 3",
   "language": "python",
   "name": "python3"
  },
  "language_info": {
   "codemirror_mode": {
    "name": "ipython",
    "version": 3
   },
   "file_extension": ".py",
   "mimetype": "text/x-python",
   "name": "python",
   "nbconvert_exporter": "python",
   "pygments_lexer": "ipython3",
   "version": "3.6.7"
  }
 },
 "nbformat": 4,
 "nbformat_minor": 2
}
